{
 "cells": [
  {
   "cell_type": "markdown",
   "metadata": {},
   "source": [
    "# Dataquest Guided Project:\n",
    "## Finding the Best Markets to Advertise In\n",
    "\n",
    "This project is based on a fictional e-learning company that offers courses on programming. Most courses are on web and mobile development, but the curriculum also includes data science, game dev, and other fields. We want to determine the two best markets for advertising our product.\n",
    "\n",
    "We will use the [New Coder Survey](https://medium.freecodecamp.org/we-asked-20-000-people-who-they-are-and-how-theyre-learning-to-code-fff5d668969) from [freeCodeCamp](https://www.freecodecamp.org/) to explore our research question. freeCodeCamp is a company similar to ours, and their survey attracted new coders who read their [popular Medium publication](https://medium.freecodecamp.org/), who have varying interests."
   ]
  },
  {
   "cell_type": "code",
   "execution_count": 1,
   "metadata": {
    "collapsed": false
   },
   "outputs": [
    {
     "name": "stdout",
     "output_type": "stream",
     "text": [
      "<class 'pandas.core.frame.DataFrame'>\n",
      "RangeIndex: 18175 entries, 0 to 18174\n",
      "Columns: 136 entries, Age to YouTubeTheNewBoston\n",
      "dtypes: float64(105), object(31)\n",
      "memory usage: 18.9+ MB\n"
     ]
    },
    {
     "name": "stderr",
     "output_type": "stream",
     "text": [
      "/dataquest/system/env/python3/lib/python3.4/site-packages/IPython/core/interactiveshell.py:2723: DtypeWarning: Columns (17,62) have mixed types. Specify dtype option on import or set low_memory=False.\n",
      "  interactivity=interactivity, compiler=compiler, result=result)\n"
     ]
    }
   ],
   "source": [
    "import pandas as pd\n",
    "survey = pd.read_csv('2017-fCC-New-Coders-Survey-Data.csv')\n",
    "survey.info()"
   ]
  },
  {
   "cell_type": "code",
   "execution_count": 2,
   "metadata": {
    "collapsed": false
   },
   "outputs": [
    {
     "data": {
      "text/plain": [
       "(18175, 136)"
      ]
     },
     "execution_count": 2,
     "metadata": {},
     "output_type": "execute_result"
    }
   ],
   "source": [
    "survey.shape"
   ]
  },
  {
   "cell_type": "code",
   "execution_count": 3,
   "metadata": {
    "collapsed": false
   },
   "outputs": [
    {
     "data": {
      "text/html": [
       "<div>\n",
       "<style scoped>\n",
       "    .dataframe tbody tr th:only-of-type {\n",
       "        vertical-align: middle;\n",
       "    }\n",
       "\n",
       "    .dataframe tbody tr th {\n",
       "        vertical-align: top;\n",
       "    }\n",
       "\n",
       "    .dataframe thead th {\n",
       "        text-align: right;\n",
       "    }\n",
       "</style>\n",
       "<table border=\"1\" class=\"dataframe\">\n",
       "  <thead>\n",
       "    <tr style=\"text-align: right;\">\n",
       "      <th></th>\n",
       "      <th>Age</th>\n",
       "      <th>AttendedBootcamp</th>\n",
       "      <th>BootcampFinish</th>\n",
       "      <th>BootcampLoanYesNo</th>\n",
       "      <th>BootcampName</th>\n",
       "      <th>BootcampRecommend</th>\n",
       "      <th>ChildrenNumber</th>\n",
       "      <th>CityPopulation</th>\n",
       "      <th>CodeEventConferences</th>\n",
       "      <th>CodeEventDjangoGirls</th>\n",
       "      <th>...</th>\n",
       "      <th>YouTubeFCC</th>\n",
       "      <th>YouTubeFunFunFunction</th>\n",
       "      <th>YouTubeGoogleDev</th>\n",
       "      <th>YouTubeLearnCode</th>\n",
       "      <th>YouTubeLevelUpTuts</th>\n",
       "      <th>YouTubeMIT</th>\n",
       "      <th>YouTubeMozillaHacks</th>\n",
       "      <th>YouTubeOther</th>\n",
       "      <th>YouTubeSimplilearn</th>\n",
       "      <th>YouTubeTheNewBoston</th>\n",
       "    </tr>\n",
       "  </thead>\n",
       "  <tbody>\n",
       "    <tr>\n",
       "      <th>0</th>\n",
       "      <td>27.0</td>\n",
       "      <td>0.0</td>\n",
       "      <td>NaN</td>\n",
       "      <td>NaN</td>\n",
       "      <td>NaN</td>\n",
       "      <td>NaN</td>\n",
       "      <td>NaN</td>\n",
       "      <td>more than 1 million</td>\n",
       "      <td>NaN</td>\n",
       "      <td>NaN</td>\n",
       "      <td>...</td>\n",
       "      <td>NaN</td>\n",
       "      <td>NaN</td>\n",
       "      <td>NaN</td>\n",
       "      <td>NaN</td>\n",
       "      <td>NaN</td>\n",
       "      <td>NaN</td>\n",
       "      <td>NaN</td>\n",
       "      <td>NaN</td>\n",
       "      <td>NaN</td>\n",
       "      <td>NaN</td>\n",
       "    </tr>\n",
       "    <tr>\n",
       "      <th>1</th>\n",
       "      <td>34.0</td>\n",
       "      <td>0.0</td>\n",
       "      <td>NaN</td>\n",
       "      <td>NaN</td>\n",
       "      <td>NaN</td>\n",
       "      <td>NaN</td>\n",
       "      <td>NaN</td>\n",
       "      <td>less than 100,000</td>\n",
       "      <td>NaN</td>\n",
       "      <td>NaN</td>\n",
       "      <td>...</td>\n",
       "      <td>1.0</td>\n",
       "      <td>NaN</td>\n",
       "      <td>NaN</td>\n",
       "      <td>NaN</td>\n",
       "      <td>NaN</td>\n",
       "      <td>NaN</td>\n",
       "      <td>NaN</td>\n",
       "      <td>NaN</td>\n",
       "      <td>NaN</td>\n",
       "      <td>NaN</td>\n",
       "    </tr>\n",
       "    <tr>\n",
       "      <th>2</th>\n",
       "      <td>21.0</td>\n",
       "      <td>0.0</td>\n",
       "      <td>NaN</td>\n",
       "      <td>NaN</td>\n",
       "      <td>NaN</td>\n",
       "      <td>NaN</td>\n",
       "      <td>NaN</td>\n",
       "      <td>more than 1 million</td>\n",
       "      <td>NaN</td>\n",
       "      <td>NaN</td>\n",
       "      <td>...</td>\n",
       "      <td>NaN</td>\n",
       "      <td>NaN</td>\n",
       "      <td>NaN</td>\n",
       "      <td>1.0</td>\n",
       "      <td>1.0</td>\n",
       "      <td>NaN</td>\n",
       "      <td>NaN</td>\n",
       "      <td>NaN</td>\n",
       "      <td>NaN</td>\n",
       "      <td>NaN</td>\n",
       "    </tr>\n",
       "    <tr>\n",
       "      <th>3</th>\n",
       "      <td>26.0</td>\n",
       "      <td>0.0</td>\n",
       "      <td>NaN</td>\n",
       "      <td>NaN</td>\n",
       "      <td>NaN</td>\n",
       "      <td>NaN</td>\n",
       "      <td>NaN</td>\n",
       "      <td>between 100,000 and 1 million</td>\n",
       "      <td>NaN</td>\n",
       "      <td>NaN</td>\n",
       "      <td>...</td>\n",
       "      <td>1.0</td>\n",
       "      <td>1.0</td>\n",
       "      <td>NaN</td>\n",
       "      <td>NaN</td>\n",
       "      <td>1.0</td>\n",
       "      <td>NaN</td>\n",
       "      <td>NaN</td>\n",
       "      <td>NaN</td>\n",
       "      <td>NaN</td>\n",
       "      <td>NaN</td>\n",
       "    </tr>\n",
       "    <tr>\n",
       "      <th>4</th>\n",
       "      <td>20.0</td>\n",
       "      <td>0.0</td>\n",
       "      <td>NaN</td>\n",
       "      <td>NaN</td>\n",
       "      <td>NaN</td>\n",
       "      <td>NaN</td>\n",
       "      <td>NaN</td>\n",
       "      <td>between 100,000 and 1 million</td>\n",
       "      <td>NaN</td>\n",
       "      <td>NaN</td>\n",
       "      <td>...</td>\n",
       "      <td>NaN</td>\n",
       "      <td>NaN</td>\n",
       "      <td>NaN</td>\n",
       "      <td>NaN</td>\n",
       "      <td>NaN</td>\n",
       "      <td>NaN</td>\n",
       "      <td>NaN</td>\n",
       "      <td>NaN</td>\n",
       "      <td>NaN</td>\n",
       "      <td>NaN</td>\n",
       "    </tr>\n",
       "  </tbody>\n",
       "</table>\n",
       "<p>5 rows × 136 columns</p>\n",
       "</div>"
      ],
      "text/plain": [
       "    Age  AttendedBootcamp  BootcampFinish  BootcampLoanYesNo BootcampName  \\\n",
       "0  27.0               0.0             NaN                NaN          NaN   \n",
       "1  34.0               0.0             NaN                NaN          NaN   \n",
       "2  21.0               0.0             NaN                NaN          NaN   \n",
       "3  26.0               0.0             NaN                NaN          NaN   \n",
       "4  20.0               0.0             NaN                NaN          NaN   \n",
       "\n",
       "   BootcampRecommend  ChildrenNumber                 CityPopulation  \\\n",
       "0                NaN             NaN            more than 1 million   \n",
       "1                NaN             NaN              less than 100,000   \n",
       "2                NaN             NaN            more than 1 million   \n",
       "3                NaN             NaN  between 100,000 and 1 million   \n",
       "4                NaN             NaN  between 100,000 and 1 million   \n",
       "\n",
       "   CodeEventConferences  CodeEventDjangoGirls         ...           \\\n",
       "0                   NaN                   NaN         ...            \n",
       "1                   NaN                   NaN         ...            \n",
       "2                   NaN                   NaN         ...            \n",
       "3                   NaN                   NaN         ...            \n",
       "4                   NaN                   NaN         ...            \n",
       "\n",
       "   YouTubeFCC  YouTubeFunFunFunction  YouTubeGoogleDev  YouTubeLearnCode  \\\n",
       "0         NaN                    NaN               NaN               NaN   \n",
       "1         1.0                    NaN               NaN               NaN   \n",
       "2         NaN                    NaN               NaN               1.0   \n",
       "3         1.0                    1.0               NaN               NaN   \n",
       "4         NaN                    NaN               NaN               NaN   \n",
       "\n",
       "   YouTubeLevelUpTuts  YouTubeMIT  YouTubeMozillaHacks YouTubeOther  \\\n",
       "0                 NaN         NaN                  NaN          NaN   \n",
       "1                 NaN         NaN                  NaN          NaN   \n",
       "2                 1.0         NaN                  NaN          NaN   \n",
       "3                 1.0         NaN                  NaN          NaN   \n",
       "4                 NaN         NaN                  NaN          NaN   \n",
       "\n",
       "   YouTubeSimplilearn  YouTubeTheNewBoston  \n",
       "0                 NaN                  NaN  \n",
       "1                 NaN                  NaN  \n",
       "2                 NaN                  NaN  \n",
       "3                 NaN                  NaN  \n",
       "4                 NaN                  NaN  \n",
       "\n",
       "[5 rows x 136 columns]"
      ]
     },
     "execution_count": 3,
     "metadata": {},
     "output_type": "execute_result"
    }
   ],
   "source": [
    "survey.head()"
   ]
  },
  {
   "cell_type": "markdown",
   "metadata": {},
   "source": [
    "We will use this comprehensive dataset to explore:\n",
    "\n",
    "* Where new coders live and work\n",
    "* Which locations have the greatest number of new coders\n",
    "* How much money new coders are willing to spend on learning\n",
    "\n",
    "To make sure this sample is representative of our population of interest, we will look at the `JobRoleInterest` column in more detail."
   ]
  },
  {
   "cell_type": "code",
   "execution_count": 4,
   "metadata": {
    "collapsed": false
   },
   "outputs": [
    {
     "data": {
      "text/plain": [
       "Full-Stack Web Developer                                                                                                                                                                                                                                                    11.770595\n",
       "  Front-End Web Developer                                                                                                                                                                                                                                                    6.435927\n",
       "  Data Scientist                                                                                                                                                                                                                                                             2.173913\n",
       "Back-End Web Developer                                                                                                                                                                                                                                                       2.030892\n",
       "  Mobile Developer                                                                                                                                                                                                                                                           1.673341\n",
       "Game Developer                                                                                                                                                                                                                                                               1.630435\n",
       "Information Security                                                                                                                                                                                                                                                         1.315789\n",
       "Full-Stack Web Developer,   Front-End Web Developer                                                                                                                                                                                                                          0.915332\n",
       "  Front-End Web Developer, Full-Stack Web Developer                                                                                                                                                                                                                          0.800915\n",
       "  Product Manager                                                                                                                                                                                                                                                            0.786613\n",
       "Data Engineer                                                                                                                                                                                                                                                                0.758009\n",
       "  User Experience Designer                                                                                                                                                                                                                                                   0.743707\n",
       "  User Experience Designer,   Front-End Web Developer                                                                                                                                                                                                                        0.614989\n",
       "  Front-End Web Developer, Back-End Web Developer, Full-Stack Web Developer                                                                                                                                                                                                  0.557780\n",
       "Back-End Web Developer,   Front-End Web Developer, Full-Stack Web Developer                                                                                                                                                                                                  0.514874\n",
       "  DevOps / SysAdmin                                                                                                                                                                                                                                                          0.514874\n",
       "Back-End Web Developer, Full-Stack Web Developer,   Front-End Web Developer                                                                                                                                                                                                  0.514874\n",
       "Full-Stack Web Developer,   Front-End Web Developer, Back-End Web Developer                                                                                                                                                                                                  0.443364\n",
       "  Front-End Web Developer, Full-Stack Web Developer, Back-End Web Developer                                                                                                                                                                                                  0.429062\n",
       "  Front-End Web Developer,   User Experience Designer                                                                                                                                                                                                                        0.414760\n",
       "Full-Stack Web Developer,   Mobile Developer                                                                                                                                                                                                                                 0.414760\n",
       "Back-End Web Developer, Full-Stack Web Developer                                                                                                                                                                                                                             0.386156\n",
       "Full-Stack Web Developer, Back-End Web Developer                                                                                                                                                                                                                             0.371854\n",
       "Back-End Web Developer,   Front-End Web Developer                                                                                                                                                                                                                            0.286041\n",
       "Data Engineer,   Data Scientist                                                                                                                                                                                                                                              0.271739\n",
       "Full-Stack Web Developer, Back-End Web Developer,   Front-End Web Developer                                                                                                                                                                                                  0.271739\n",
       "  Front-End Web Developer,   Mobile Developer                                                                                                                                                                                                                                0.257437\n",
       "Full-Stack Web Developer,   Data Scientist                                                                                                                                                                                                                                   0.243135\n",
       "  Data Scientist, Data Engineer                                                                                                                                                                                                                                              0.228833\n",
       "  Mobile Developer, Game Developer                                                                                                                                                                                                                                           0.228833\n",
       "                                                                                                                                                                                                                                                                              ...    \n",
       "  Quality Assurance Engineer,   Front-End Web Developer, Game Developer,   User Experience Designer, Full-Stack Web Developer,   Product Manager,   Data Scientist, Data Engineer,   DevOps / SysAdmin,   Mobile Developer, Back-End Web Developer, Information Security     0.014302\n",
       "  Front-End Web Developer, Full-Stack Web Developer, Back-End Web Developer,   Mobile Developer,   Product Manager,   User Experience Designer,   Data Scientist                                                                                                             0.014302\n",
       "Back-End Web Developer,   Data Scientist, Information Security,   Front-End Web Developer,   Quality Assurance Engineer,   DevOps / SysAdmin, Data Engineer, Game Developer, Full-Stack Web Developer                                                                        0.014302\n",
       "Back-End Web Developer, Data Engineer,   Front-End Web Developer,   Data Scientist, Full-Stack Web Developer,   Mobile Developer                                                                                                                                             0.014302\n",
       "  Quality Assurance Engineer,   Mobile Developer, Back-End Web Developer,   User Experience Designer,   Front-End Web Developer, Game Developer                                                                                                                              0.014302\n",
       "  Mobile Developer,   Front-End Web Developer, Back-End Web Developer, Information Security                                                                                                                                                                                  0.014302\n",
       "Game Developer,   Front-End Web Developer,   DevOps / SysAdmin                                                                                                                                                                                                               0.014302\n",
       "  Product Manager, Full-Stack Web Developer,   Front-End Web Developer, Back-End Web Developer                                                                                                                                                                               0.014302\n",
       "Game Developer, Back-End Web Developer,   Data Scientist                                                                                                                                                                                                                     0.014302\n",
       "  Product Manager,   Mobile Developer, Game Developer, Back-End Web Developer,   Front-End Web Developer                                                                                                                                                                     0.014302\n",
       "Information Security, Full-Stack Web Developer,   DevOps / SysAdmin                                                                                                                                                                                                          0.014302\n",
       "  Mobile Developer, Game Developer,   User Experience Designer,   Product Manager, Full-Stack Web Developer,   Front-End Web Developer                                                                                                                                       0.014302\n",
       "Information Security,   Data Scientist,   Mobile Developer                                                                                                                                                                                                                   0.014302\n",
       "  User Experience Designer,   Mobile Developer, Back-End Web Developer, Full-Stack Web Developer,   Front-End Web Developer                                                                                                                                                  0.014302\n",
       "  Front-End Web Developer, Back-End Web Developer,   Mobile Developer, Data Engineer,   DevOps / SysAdmin,   User Experience Designer, Information Security                                                                                                                  0.014302\n",
       "  User Experience Designer,   Front-End Web Developer, Full-Stack Web Developer,   Quality Assurance Engineer,   DevOps / SysAdmin, Data Engineer,   Mobile Developer, Information Security, Back-End Web Developer                                                          0.014302\n",
       "  Front-End Web Developer, Back-End Web Developer, Full-Stack Web Developer,   User Experience Designer,   DevOps / SysAdmin                                                                                                                                                 0.014302\n",
       "Game Developer, Back-End Web Developer,   Mobile Developer, Full-Stack Web Developer                                                                                                                                                                                         0.014302\n",
       "Game Developer, Full-Stack Web Developer,   Front-End Web Developer,   Mobile Developer,   User Experience Designer                                                                                                                                                          0.014302\n",
       "  User Experience Designer, Full-Stack Web Developer, Back-End Web Developer,   DevOps / SysAdmin,   Data Scientist,   Product Manager,   Mobile Developer                                                                                                                   0.014302\n",
       "  User Experience Designer,   Front-End Web Developer,   Data Scientist, Information Security,   Mobile Developer,   DevOps / SysAdmin,   Product Manager                                                                                                                    0.014302\n",
       "Full-Stack Web Developer,   Front-End Web Developer,   Quality Assurance Engineer, Data Engineer, Back-End Web Developer                                                                                                                                                     0.014302\n",
       "  Quality Assurance Engineer,   DevOps / SysAdmin,   Product Manager,   Data Scientist,   Mobile Developer,   Front-End Web Developer, Full-Stack Web Developer, Data Engineer                                                                                               0.014302\n",
       "  Mobile Developer, Game Developer,   Front-End Web Developer,   User Experience Designer                                                                                                                                                                                    0.014302\n",
       "Full-Stack Web Developer,   Mobile Developer, Data Engineer,   Product Manager,   Front-End Web Developer, Information Security                                                                                                                                              0.014302\n",
       "  Mobile Developer, Full-Stack Web Developer,   Front-End Web Developer,   User Experience Designer,   Product Manager, Data Engineer, Back-End Web Developer                                                                                                                0.014302\n",
       "  Data Scientist, Full-Stack Web Developer,   User Experience Designer                                                                                                                                                                                                       0.014302\n",
       "Back-End Web Developer, Full-Stack Web Developer,   User Experience Designer,   Mobile Developer,   Front-End Web Developer                                                                                                                                                  0.014302\n",
       "Game Developer,   Front-End Web Developer,   Product Manager,   Mobile Developer, Full-Stack Web Developer,   Data Scientist, Data Engineer,   Quality Assurance Engineer,   User Experience Designer, Back-End Web Developer                                                0.014302\n",
       "Game Developer, Back-End Web Developer, Information Security                                                                                                                                                                                                                 0.014302\n",
       "Name: JobRoleInterest, Length: 3213, dtype: float64"
      ]
     },
     "execution_count": 4,
     "metadata": {},
     "output_type": "execute_result"
    }
   ],
   "source": [
    "survey['JobRoleInterest'].value_counts(normalize=True)*100"
   ]
  },
  {
   "cell_type": "markdown",
   "metadata": {
    "collapsed": true
   },
   "source": [
    "It appears from this table that most new coders are interested in web development. However, most respondents have multiple interests. This isn't a problem, since our platform offers a wide variety of content.\n",
    "\n",
    "It would be good to get a better idea of how many respondents were interested in more than one topic. In order accomplish this, we need to split the `JobRoleInterest` responses by commas `,`. This will turn each entry in the `JobRoleInterest` column into a list of interests. Then, we can count how many respondents listed more than one interest.\n",
    "\n",
    "First, we need to drop `NaN` values, because they will cause `str.split` to throw an error."
   ]
  },
  {
   "cell_type": "code",
   "execution_count": 5,
   "metadata": {
    "collapsed": false
   },
   "outputs": [
    {
     "data": {
      "text/plain": [
       "1     31.650458\n",
       "2     10.883867\n",
       "3     15.889588\n",
       "4     15.217391\n",
       "5     12.042334\n",
       "6      6.721968\n",
       "7      3.861556\n",
       "8      1.759153\n",
       "9      0.986842\n",
       "10     0.471968\n",
       "11     0.185927\n",
       "12     0.300343\n",
       "13     0.028604\n",
       "Name: JobRoleInterest, dtype: float64"
      ]
     },
     "execution_count": 5,
     "metadata": {},
     "output_type": "execute_result"
    }
   ],
   "source": [
    "interests = survey['JobRoleInterest'].dropna() #drop NaN values\n",
    "interests_split = interests.str.split(',') #turn responses into lists\n",
    "interests_count = interests_split.apply(lambda x: len(x)) #count number of items in each list\n",
    "interests_count.value_counts(normalize=True).sort_index() * 100"
   ]
  },
  {
   "cell_type": "markdown",
   "metadata": {},
   "source": [
    "Only 31.65% of respondents have only one interest. The rest have multiple interests.\n",
    "\n",
    "Since our platform focuses on web and mobile development, let's count how many respondents indicated an interest in either topic. We will use `str.contains` on the `interests` series without `NaN` values we defined above."
   ]
  },
  {
   "cell_type": "code",
   "execution_count": 6,
   "metadata": {
    "collapsed": false
   },
   "outputs": [
    {
     "data": {
      "text/plain": [
       "True     86.241419\n",
       "False    13.758581\n",
       "Name: JobRoleInterest, dtype: float64"
      ]
     },
     "execution_count": 6,
     "metadata": {},
     "output_type": "execute_result"
    }
   ],
   "source": [
    "web_mobile = interests.str.contains('Web Developer|Mobile Developer')\n",
    "web_mobile_count = web_mobile.value_counts(normalize=True)*100\n",
    "web_mobile_count"
   ]
  },
  {
   "cell_type": "code",
   "execution_count": 7,
   "metadata": {
    "collapsed": false
   },
   "outputs": [
    {
     "data": {
      "image/png": "[encoded data removed]",
      "text/plain": [
       "<matplotlib.figure.Figure at 0x7fb2314d8b00>"
      ]
     },
     "metadata": {},
     "output_type": "display_data"
    }
   ],
   "source": [
    "#graph the value counts\n",
    "%matplotlib inline\n",
    "import matplotlib.pyplot as plt\n",
    "plt.style.use('fivethirtyeight')\n",
    "\n",
    "web_mobile_count.plot.bar()\n",
    "plt.title('The majority of respondents are interested in \\n Web and Mobile Development', y=1.05)\n",
    "plt.ylabel('Percentage')\n",
    "plt.ylim(0,100)\n",
    "plt.xticks([0,1], ['Web and \\nMobile Development', 'Other'], rotation=0)\n",
    "plt.show()\n"
   ]
  },
  {
   "cell_type": "markdown",
   "metadata": {},
   "source": [
    "These results indicate that new coders are a good market to advertise our platform in. Now, we need to figure out where these new coders are located, and how many new coders are in each location.\n",
    "\n",
    "The survey provides two location variables: `CountryCitizen` and `CountryLive`. Since we are interested in where to advertise, we will use the `CountryLive` column. Since we only have country level data, we will reframe our question as \"What are the two best countries to advertise in?\", or more specifically \"Which two countries have the most number of potential customers?\"\n",
    "\n",
    "To make sure our sample is representative, we will drop all rows where the participants didn't answer what role they were interested in."
   ]
  },
  {
   "cell_type": "code",
   "execution_count": 8,
   "metadata": {
    "collapsed": false
   },
   "outputs": [
    {
     "data": {
      "text/html": [
       "<div>\n",
       "<style scoped>\n",
       "    .dataframe tbody tr th:only-of-type {\n",
       "        vertical-align: middle;\n",
       "    }\n",
       "\n",
       "    .dataframe tbody tr th {\n",
       "        vertical-align: top;\n",
       "    }\n",
       "\n",
       "    .dataframe thead th {\n",
       "        text-align: right;\n",
       "    }\n",
       "</style>\n",
       "<table border=\"1\" class=\"dataframe\">\n",
       "  <thead>\n",
       "    <tr style=\"text-align: right;\">\n",
       "      <th></th>\n",
       "      <th>Absolute Frequency</th>\n",
       "      <th>Percentage</th>\n",
       "    </tr>\n",
       "  </thead>\n",
       "  <tbody>\n",
       "    <tr>\n",
       "      <th>United States of America</th>\n",
       "      <td>3125</td>\n",
       "      <td>45.700497</td>\n",
       "    </tr>\n",
       "    <tr>\n",
       "      <th>India</th>\n",
       "      <td>528</td>\n",
       "      <td>7.721556</td>\n",
       "    </tr>\n",
       "    <tr>\n",
       "      <th>United Kingdom</th>\n",
       "      <td>315</td>\n",
       "      <td>4.606610</td>\n",
       "    </tr>\n",
       "    <tr>\n",
       "      <th>Canada</th>\n",
       "      <td>260</td>\n",
       "      <td>3.802281</td>\n",
       "    </tr>\n",
       "    <tr>\n",
       "      <th>Poland</th>\n",
       "      <td>131</td>\n",
       "      <td>1.915765</td>\n",
       "    </tr>\n",
       "    <tr>\n",
       "      <th>Brazil</th>\n",
       "      <td>129</td>\n",
       "      <td>1.886517</td>\n",
       "    </tr>\n",
       "    <tr>\n",
       "      <th>Germany</th>\n",
       "      <td>125</td>\n",
       "      <td>1.828020</td>\n",
       "    </tr>\n",
       "    <tr>\n",
       "      <th>Australia</th>\n",
       "      <td>112</td>\n",
       "      <td>1.637906</td>\n",
       "    </tr>\n",
       "    <tr>\n",
       "      <th>Russia</th>\n",
       "      <td>102</td>\n",
       "      <td>1.491664</td>\n",
       "    </tr>\n",
       "    <tr>\n",
       "      <th>Ukraine</th>\n",
       "      <td>89</td>\n",
       "      <td>1.301550</td>\n",
       "    </tr>\n",
       "    <tr>\n",
       "      <th>Nigeria</th>\n",
       "      <td>84</td>\n",
       "      <td>1.228429</td>\n",
       "    </tr>\n",
       "    <tr>\n",
       "      <th>Spain</th>\n",
       "      <td>77</td>\n",
       "      <td>1.126060</td>\n",
       "    </tr>\n",
       "    <tr>\n",
       "      <th>France</th>\n",
       "      <td>75</td>\n",
       "      <td>1.096812</td>\n",
       "    </tr>\n",
       "    <tr>\n",
       "      <th>Romania</th>\n",
       "      <td>71</td>\n",
       "      <td>1.038315</td>\n",
       "    </tr>\n",
       "    <tr>\n",
       "      <th>Netherlands (Holland, Europe)</th>\n",
       "      <td>65</td>\n",
       "      <td>0.950570</td>\n",
       "    </tr>\n",
       "    <tr>\n",
       "      <th>Italy</th>\n",
       "      <td>62</td>\n",
       "      <td>0.906698</td>\n",
       "    </tr>\n",
       "    <tr>\n",
       "      <th>Philippines</th>\n",
       "      <td>52</td>\n",
       "      <td>0.760456</td>\n",
       "    </tr>\n",
       "    <tr>\n",
       "      <th>Serbia</th>\n",
       "      <td>52</td>\n",
       "      <td>0.760456</td>\n",
       "    </tr>\n",
       "    <tr>\n",
       "      <th>Greece</th>\n",
       "      <td>46</td>\n",
       "      <td>0.672711</td>\n",
       "    </tr>\n",
       "    <tr>\n",
       "      <th>Ireland</th>\n",
       "      <td>43</td>\n",
       "      <td>0.628839</td>\n",
       "    </tr>\n",
       "    <tr>\n",
       "      <th>South Africa</th>\n",
       "      <td>39</td>\n",
       "      <td>0.570342</td>\n",
       "    </tr>\n",
       "    <tr>\n",
       "      <th>Mexico</th>\n",
       "      <td>37</td>\n",
       "      <td>0.541094</td>\n",
       "    </tr>\n",
       "    <tr>\n",
       "      <th>Turkey</th>\n",
       "      <td>36</td>\n",
       "      <td>0.526470</td>\n",
       "    </tr>\n",
       "    <tr>\n",
       "      <th>Singapore</th>\n",
       "      <td>34</td>\n",
       "      <td>0.497221</td>\n",
       "    </tr>\n",
       "    <tr>\n",
       "      <th>Hungary</th>\n",
       "      <td>34</td>\n",
       "      <td>0.497221</td>\n",
       "    </tr>\n",
       "    <tr>\n",
       "      <th>New Zealand</th>\n",
       "      <td>33</td>\n",
       "      <td>0.482597</td>\n",
       "    </tr>\n",
       "    <tr>\n",
       "      <th>Croatia</th>\n",
       "      <td>32</td>\n",
       "      <td>0.467973</td>\n",
       "    </tr>\n",
       "    <tr>\n",
       "      <th>Argentina</th>\n",
       "      <td>32</td>\n",
       "      <td>0.467973</td>\n",
       "    </tr>\n",
       "    <tr>\n",
       "      <th>Sweden</th>\n",
       "      <td>31</td>\n",
       "      <td>0.453349</td>\n",
       "    </tr>\n",
       "    <tr>\n",
       "      <th>Pakistan</th>\n",
       "      <td>31</td>\n",
       "      <td>0.453349</td>\n",
       "    </tr>\n",
       "    <tr>\n",
       "      <th>...</th>\n",
       "      <td>...</td>\n",
       "      <td>...</td>\n",
       "    </tr>\n",
       "    <tr>\n",
       "      <th>Cuba</th>\n",
       "      <td>1</td>\n",
       "      <td>0.014624</td>\n",
       "    </tr>\n",
       "    <tr>\n",
       "      <th>Anguilla</th>\n",
       "      <td>1</td>\n",
       "      <td>0.014624</td>\n",
       "    </tr>\n",
       "    <tr>\n",
       "      <th>Samoa</th>\n",
       "      <td>1</td>\n",
       "      <td>0.014624</td>\n",
       "    </tr>\n",
       "    <tr>\n",
       "      <th>Aruba</th>\n",
       "      <td>1</td>\n",
       "      <td>0.014624</td>\n",
       "    </tr>\n",
       "    <tr>\n",
       "      <th>Nambia</th>\n",
       "      <td>1</td>\n",
       "      <td>0.014624</td>\n",
       "    </tr>\n",
       "    <tr>\n",
       "      <th>Guadeloupe</th>\n",
       "      <td>1</td>\n",
       "      <td>0.014624</td>\n",
       "    </tr>\n",
       "    <tr>\n",
       "      <th>Yemen</th>\n",
       "      <td>1</td>\n",
       "      <td>0.014624</td>\n",
       "    </tr>\n",
       "    <tr>\n",
       "      <th>Liberia</th>\n",
       "      <td>1</td>\n",
       "      <td>0.014624</td>\n",
       "    </tr>\n",
       "    <tr>\n",
       "      <th>Myanmar</th>\n",
       "      <td>1</td>\n",
       "      <td>0.014624</td>\n",
       "    </tr>\n",
       "    <tr>\n",
       "      <th>Bolivia</th>\n",
       "      <td>1</td>\n",
       "      <td>0.014624</td>\n",
       "    </tr>\n",
       "    <tr>\n",
       "      <th>Botswana</th>\n",
       "      <td>1</td>\n",
       "      <td>0.014624</td>\n",
       "    </tr>\n",
       "    <tr>\n",
       "      <th>Channel Islands</th>\n",
       "      <td>1</td>\n",
       "      <td>0.014624</td>\n",
       "    </tr>\n",
       "    <tr>\n",
       "      <th>Jordan</th>\n",
       "      <td>1</td>\n",
       "      <td>0.014624</td>\n",
       "    </tr>\n",
       "    <tr>\n",
       "      <th>Gambia</th>\n",
       "      <td>1</td>\n",
       "      <td>0.014624</td>\n",
       "    </tr>\n",
       "    <tr>\n",
       "      <th>Rwanda</th>\n",
       "      <td>1</td>\n",
       "      <td>0.014624</td>\n",
       "    </tr>\n",
       "    <tr>\n",
       "      <th>Angola</th>\n",
       "      <td>1</td>\n",
       "      <td>0.014624</td>\n",
       "    </tr>\n",
       "    <tr>\n",
       "      <th>Cameroon</th>\n",
       "      <td>1</td>\n",
       "      <td>0.014624</td>\n",
       "    </tr>\n",
       "    <tr>\n",
       "      <th>Gibraltar</th>\n",
       "      <td>1</td>\n",
       "      <td>0.014624</td>\n",
       "    </tr>\n",
       "    <tr>\n",
       "      <th>Sudan</th>\n",
       "      <td>1</td>\n",
       "      <td>0.014624</td>\n",
       "    </tr>\n",
       "    <tr>\n",
       "      <th>Trinidad &amp; Tobago</th>\n",
       "      <td>1</td>\n",
       "      <td>0.014624</td>\n",
       "    </tr>\n",
       "    <tr>\n",
       "      <th>Mozambique</th>\n",
       "      <td>1</td>\n",
       "      <td>0.014624</td>\n",
       "    </tr>\n",
       "    <tr>\n",
       "      <th>Turkmenistan</th>\n",
       "      <td>1</td>\n",
       "      <td>0.014624</td>\n",
       "    </tr>\n",
       "    <tr>\n",
       "      <th>Somalia</th>\n",
       "      <td>1</td>\n",
       "      <td>0.014624</td>\n",
       "    </tr>\n",
       "    <tr>\n",
       "      <th>Nicaragua</th>\n",
       "      <td>1</td>\n",
       "      <td>0.014624</td>\n",
       "    </tr>\n",
       "    <tr>\n",
       "      <th>Panama</th>\n",
       "      <td>1</td>\n",
       "      <td>0.014624</td>\n",
       "    </tr>\n",
       "    <tr>\n",
       "      <th>Vanuatu</th>\n",
       "      <td>1</td>\n",
       "      <td>0.014624</td>\n",
       "    </tr>\n",
       "    <tr>\n",
       "      <th>Guatemala</th>\n",
       "      <td>1</td>\n",
       "      <td>0.014624</td>\n",
       "    </tr>\n",
       "    <tr>\n",
       "      <th>Cayman Islands</th>\n",
       "      <td>1</td>\n",
       "      <td>0.014624</td>\n",
       "    </tr>\n",
       "    <tr>\n",
       "      <th>Qatar</th>\n",
       "      <td>1</td>\n",
       "      <td>0.014624</td>\n",
       "    </tr>\n",
       "    <tr>\n",
       "      <th>Papua New Guinea</th>\n",
       "      <td>1</td>\n",
       "      <td>0.014624</td>\n",
       "    </tr>\n",
       "  </tbody>\n",
       "</table>\n",
       "<p>137 rows × 2 columns</p>\n",
       "</div>"
      ],
      "text/plain": [
       "                               Absolute Frequency  Percentage\n",
       "United States of America                     3125   45.700497\n",
       "India                                         528    7.721556\n",
       "United Kingdom                                315    4.606610\n",
       "Canada                                        260    3.802281\n",
       "Poland                                        131    1.915765\n",
       "Brazil                                        129    1.886517\n",
       "Germany                                       125    1.828020\n",
       "Australia                                     112    1.637906\n",
       "Russia                                        102    1.491664\n",
       "Ukraine                                        89    1.301550\n",
       "Nigeria                                        84    1.228429\n",
       "Spain                                          77    1.126060\n",
       "France                                         75    1.096812\n",
       "Romania                                        71    1.038315\n",
       "Netherlands (Holland, Europe)                  65    0.950570\n",
       "Italy                                          62    0.906698\n",
       "Philippines                                    52    0.760456\n",
       "Serbia                                         52    0.760456\n",
       "Greece                                         46    0.672711\n",
       "Ireland                                        43    0.628839\n",
       "South Africa                                   39    0.570342\n",
       "Mexico                                         37    0.541094\n",
       "Turkey                                         36    0.526470\n",
       "Singapore                                      34    0.497221\n",
       "Hungary                                        34    0.497221\n",
       "New Zealand                                    33    0.482597\n",
       "Croatia                                        32    0.467973\n",
       "Argentina                                      32    0.467973\n",
       "Sweden                                         31    0.453349\n",
       "Pakistan                                       31    0.453349\n",
       "...                                           ...         ...\n",
       "Cuba                                            1    0.014624\n",
       "Anguilla                                        1    0.014624\n",
       "Samoa                                           1    0.014624\n",
       "Aruba                                           1    0.014624\n",
       "Nambia                                          1    0.014624\n",
       "Guadeloupe                                      1    0.014624\n",
       "Yemen                                           1    0.014624\n",
       "Liberia                                         1    0.014624\n",
       "Myanmar                                         1    0.014624\n",
       "Bolivia                                         1    0.014624\n",
       "Botswana                                        1    0.014624\n",
       "Channel Islands                                 1    0.014624\n",
       "Jordan                                          1    0.014624\n",
       "Gambia                                          1    0.014624\n",
       "Rwanda                                          1    0.014624\n",
       "Angola                                          1    0.014624\n",
       "Cameroon                                        1    0.014624\n",
       "Gibraltar                                       1    0.014624\n",
       "Sudan                                           1    0.014624\n",
       "Trinidad & Tobago                               1    0.014624\n",
       "Mozambique                                      1    0.014624\n",
       "Turkmenistan                                    1    0.014624\n",
       "Somalia                                         1    0.014624\n",
       "Nicaragua                                       1    0.014624\n",
       "Panama                                          1    0.014624\n",
       "Vanuatu                                         1    0.014624\n",
       "Guatemala                                       1    0.014624\n",
       "Cayman Islands                                  1    0.014624\n",
       "Qatar                                           1    0.014624\n",
       "Papua New Guinea                                1    0.014624\n",
       "\n",
       "[137 rows x 2 columns]"
      ]
     },
     "execution_count": 8,
     "metadata": {},
     "output_type": "execute_result"
    }
   ],
   "source": [
    "survey_nona = survey.dropna(subset=['JobRoleInterest']).copy() #drop NaN values\n",
    "absolute_freq = survey_nona['CountryLive'].value_counts()\n",
    "relative_freq = survey_nona['CountryLive'].value_counts(normalize=True)*100\n",
    "\n",
    "pd.DataFrame(data = {'Absolute Frequency': absolute_freq,\n",
    "                    'Percentage': relative_freq}\n",
    "            )\n"
   ]
  },
  {
   "cell_type": "markdown",
   "metadata": {},
   "source": [
    "The majority of new coders live in the US and India. However, before deciding on where to advertise, we need to also look into how much money respondents in each market are willing to spend on learning. Advertising within markets where most new coders are only willing to use free platforms for learning is unlikely to be profitable. We will use the `MoneyForLearning` column to answer this question.\n",
    "\n",
    "We sell subscriptions for $59 US dollars per month, so we are interested in how much money each student spends _per month_. `MoneyForLearning` records how much money participants had spent on learning _total_ at the time they completed the survey.\n",
    "\n",
    "Based on the frequency table generated above, we will narrow our analysis down to four countries: the US, India, the UK, and Canada. These are the four countries with the highest absolute frequencies, and they all have English as an official language. Our courses are written in English."
   ]
  },
  {
   "cell_type": "code",
   "execution_count": 9,
   "metadata": {
    "collapsed": false
   },
   "outputs": [
    {
     "data": {
      "text/plain": [
       "675"
      ]
     },
     "execution_count": 9,
     "metadata": {},
     "output_type": "execute_result"
    }
   ],
   "source": [
    "#money spent per month\n",
    "#First replace 0 months with 1 month to avoid dividing by 0\n",
    "survey_nona['MonthsProgramming'].replace(0,1, inplace=True) \n",
    "survey_nona['MoneyPerMonth'] = survey_nona['MoneyForLearning']/survey_nona['MonthsProgramming']\n",
    "#number of null values in MoneyPerMonth:\n",
    "survey_nona['MoneyPerMonth'].isnull().sum()"
   ]
  },
  {
   "cell_type": "code",
   "execution_count": 10,
   "metadata": {
    "collapsed": false
   },
   "outputs": [
    {
     "data": {
      "text/html": [
       "<div>\n",
       "<style scoped>\n",
       "    .dataframe tbody tr th:only-of-type {\n",
       "        vertical-align: middle;\n",
       "    }\n",
       "\n",
       "    .dataframe tbody tr th {\n",
       "        vertical-align: top;\n",
       "    }\n",
       "\n",
       "    .dataframe thead th {\n",
       "        text-align: right;\n",
       "    }\n",
       "</style>\n",
       "<table border=\"1\" class=\"dataframe\">\n",
       "  <thead>\n",
       "    <tr style=\"text-align: right;\">\n",
       "      <th></th>\n",
       "      <th>MoneyPerMonth</th>\n",
       "    </tr>\n",
       "    <tr>\n",
       "      <th>CountryLive</th>\n",
       "      <th></th>\n",
       "    </tr>\n",
       "  </thead>\n",
       "  <tbody>\n",
       "    <tr>\n",
       "      <th>United States of America</th>\n",
       "      <td>227.997996</td>\n",
       "    </tr>\n",
       "    <tr>\n",
       "      <th>India</th>\n",
       "      <td>135.100982</td>\n",
       "    </tr>\n",
       "    <tr>\n",
       "      <th>Canada</th>\n",
       "      <td>113.510961</td>\n",
       "    </tr>\n",
       "    <tr>\n",
       "      <th>United Kingdom</th>\n",
       "      <td>45.534443</td>\n",
       "    </tr>\n",
       "  </tbody>\n",
       "</table>\n",
       "</div>"
      ],
      "text/plain": [
       "                          MoneyPerMonth\n",
       "CountryLive                            \n",
       "United States of America     227.997996\n",
       "India                        135.100982\n",
       "Canada                       113.510961\n",
       "United Kingdom                45.534443"
      ]
     },
     "execution_count": 10,
     "metadata": {},
     "output_type": "execute_result"
    }
   ],
   "source": [
    "#Keep only rows that are not null in MoneyPerMonth and CountryLive\n",
    "survey_nona = survey_nona.dropna(subset=['MoneyPerMonth','CountryLive']).copy()\n",
    "country_money = survey_nona.loc[:,['CountryLive','MoneyPerMonth']]\n",
    "\n",
    "#Only look at the 4 countries of interest\n",
    "top4 = ['United States of America','India','United Kingdom','Canada']\n",
    "country_money = country_money.loc[country_money['CountryLive'].isin(top4)]\n",
    "\n",
    "#calculate mean MoneyPerMonth for each country\n",
    "average_country_money = country_money.groupby(['CountryLive']).mean().sort_values(by=['MoneyPerMonth'],ascending=False)\n",
    "average_country_money"
   ]
  },
  {
   "cell_type": "markdown",
   "metadata": {},
   "source": [
    "These results are surprising, as we would expect India to spend less on learning than Canada or the UK. Let's look at the data more closely to figure out what's going on. First, we will use boxplots to check for outliers."
   ]
  },
  {
   "cell_type": "code",
   "execution_count": 11,
   "metadata": {
    "collapsed": false
   },
   "outputs": [
    {
     "name": "stderr",
     "output_type": "stream",
     "text": [
      "/dataquest/system/env/python3/lib/python3.4/site-packages/seaborn/categorical.py:454: FutureWarning: remove_na is deprecated and is a private function. Do not use.\n",
      "  box_data = remove_na(group_data)\n"
     ]
    },
    {
     "data": {
      "image/png": "[encoded data removed]",
      "text/plain": [
       "<matplotlib.figure.Figure at 0x7fb233513a58>"
      ]
     },
     "metadata": {},
     "output_type": "display_data"
    }
   ],
   "source": [
    "import seaborn as sns\n",
    "\n",
    "sns.boxplot(y = 'MoneyPerMonth', \n",
    "            x = 'CountryLive', \n",
    "            data = country_money)\n",
    "plt.title('Money Spent Per Month Per Country\\n(Distributions)',\n",
    "         fontsize = 16)\n",
    "plt.ylabel('Money per month (US dollars)')\n",
    "plt.xlabel('Country')\n",
    "plt.xticks(range(4), ['US', 'UK', 'India', 'Canada']) # avoids tick labels overlap\n",
    "plt.show()"
   ]
  },
  {
   "cell_type": "markdown",
   "metadata": {},
   "source": [
    "While the data for India, the UK, and Canada look ok, there actually appears to be two extreme outliers in the US. Two participants reported spending over $50,000 per month on learning. We will remove these two outliers and repeat our analysis."
   ]
  },
  {
   "cell_type": "code",
   "execution_count": 12,
   "metadata": {
    "collapsed": false
   },
   "outputs": [
    {
     "data": {
      "text/html": [
       "<div>\n",
       "<style scoped>\n",
       "    .dataframe tbody tr th:only-of-type {\n",
       "        vertical-align: middle;\n",
       "    }\n",
       "\n",
       "    .dataframe tbody tr th {\n",
       "        vertical-align: top;\n",
       "    }\n",
       "\n",
       "    .dataframe thead th {\n",
       "        text-align: right;\n",
       "    }\n",
       "</style>\n",
       "<table border=\"1\" class=\"dataframe\">\n",
       "  <thead>\n",
       "    <tr style=\"text-align: right;\">\n",
       "      <th></th>\n",
       "      <th>MoneyPerMonth</th>\n",
       "    </tr>\n",
       "    <tr>\n",
       "      <th>CountryLive</th>\n",
       "      <th></th>\n",
       "    </tr>\n",
       "  </thead>\n",
       "  <tbody>\n",
       "    <tr>\n",
       "      <th>United States of America</th>\n",
       "      <td>183.800110</td>\n",
       "    </tr>\n",
       "    <tr>\n",
       "      <th>India</th>\n",
       "      <td>135.100982</td>\n",
       "    </tr>\n",
       "    <tr>\n",
       "      <th>Canada</th>\n",
       "      <td>113.510961</td>\n",
       "    </tr>\n",
       "    <tr>\n",
       "      <th>United Kingdom</th>\n",
       "      <td>45.534443</td>\n",
       "    </tr>\n",
       "  </tbody>\n",
       "</table>\n",
       "</div>"
      ],
      "text/plain": [
       "                          MoneyPerMonth\n",
       "CountryLive                            \n",
       "United States of America     183.800110\n",
       "India                        135.100982\n",
       "Canada                       113.510961\n",
       "United Kingdom                45.534443"
      ]
     },
     "execution_count": 12,
     "metadata": {},
     "output_type": "execute_result"
    }
   ],
   "source": [
    "#Only include respondents who spend less than $40,000 a month\n",
    "country_money = country_money[country_money['MoneyPerMonth'] < 40000]\n",
    "#recalculate average money spent per month per country\n",
    "average_country_money = country_money.groupby(['CountryLive']).mean().sort_values(by=['MoneyPerMonth'],ascending=False)\n",
    "average_country_money"
   ]
  },
  {
   "cell_type": "code",
   "execution_count": 13,
   "metadata": {
    "collapsed": false
   },
   "outputs": [
    {
     "name": "stderr",
     "output_type": "stream",
     "text": [
      "/dataquest/system/env/python3/lib/python3.4/site-packages/seaborn/categorical.py:454: FutureWarning: remove_na is deprecated and is a private function. Do not use.\n",
      "  box_data = remove_na(group_data)\n"
     ]
    },
    {
     "data": {
      "image/png": "[encoded data removed]",
      "text/plain": [
       "<matplotlib.figure.Figure at 0x7fb2312356d8>"
      ]
     },
     "metadata": {},
     "output_type": "display_data"
    }
   ],
   "source": [
    "sns.boxplot(y = 'MoneyPerMonth', \n",
    "            x = 'CountryLive', \n",
    "            data = country_money)\n",
    "plt.title('Money Spent Per Month Per Country\\n(Distributions)',\n",
    "         fontsize = 16)\n",
    "plt.ylabel('Money per month (US dollars)')\n",
    "plt.xlabel('Country')\n",
    "plt.xticks(range(4), ['US', 'UK', 'India', 'Canada']) # avoids tick labels overlap\n",
    "plt.show()"
   ]
  },
  {
   "cell_type": "markdown",
   "metadata": {},
   "source": [
    "In general, money spent per month tends to be incredibly right skewed. Next steps could be to remove all participants more than 2 standard deviations outside the mean"
   ]
  },
  {
   "cell_type": "code",
   "execution_count": 24,
   "metadata": {
    "collapsed": false
   },
   "outputs": [
    {
     "data": {
      "text/html": [
       "<div>\n",
       "<style scoped>\n",
       "    .dataframe tbody tr th:only-of-type {\n",
       "        vertical-align: middle;\n",
       "    }\n",
       "\n",
       "    .dataframe tbody tr th {\n",
       "        vertical-align: top;\n",
       "    }\n",
       "\n",
       "    .dataframe thead th {\n",
       "        text-align: right;\n",
       "    }\n",
       "</style>\n",
       "<table border=\"1\" class=\"dataframe\">\n",
       "  <thead>\n",
       "    <tr style=\"text-align: right;\">\n",
       "      <th></th>\n",
       "      <th>MoneyPerMonth</th>\n",
       "    </tr>\n",
       "    <tr>\n",
       "      <th>CountryLive</th>\n",
       "      <th></th>\n",
       "    </tr>\n",
       "  </thead>\n",
       "  <tbody>\n",
       "    <tr>\n",
       "      <th>United States of America</th>\n",
       "      <td>81.623608</td>\n",
       "    </tr>\n",
       "    <tr>\n",
       "      <th>Canada</th>\n",
       "      <td>75.550481</td>\n",
       "    </tr>\n",
       "    <tr>\n",
       "      <th>India</th>\n",
       "      <td>57.256604</td>\n",
       "    </tr>\n",
       "    <tr>\n",
       "      <th>United Kingdom</th>\n",
       "      <td>45.534443</td>\n",
       "    </tr>\n",
       "  </tbody>\n",
       "</table>\n",
       "</div>"
      ],
      "text/plain": [
       "                          MoneyPerMonth\n",
       "CountryLive                            \n",
       "United States of America      81.623608\n",
       "Canada                        75.550481\n",
       "India                         57.256604\n",
       "United Kingdom                45.534443"
      ]
     },
     "execution_count": 24,
     "metadata": {},
     "output_type": "execute_result"
    }
   ],
   "source": [
    "mean = country_money['MoneyPerMonth'].mean()\n",
    "st_dev = country_money['MoneyPerMonth'].std()\n",
    "country_money_nooutliers = country_money[(country_money['MoneyPerMonth'] < (mean+2*st_dev)) & (country_money['MoneyPerMonth'] > (mean-2*st_dev))]\n",
    "\n",
    "average_country_money = country_money_nooutliers.groupby(['CountryLive']).mean().sort_values(by=['MoneyPerMonth'],ascending=False)\n",
    "average_country_money"
   ]
  },
  {
   "cell_type": "code",
   "execution_count": 23,
   "metadata": {
    "collapsed": false
   },
   "outputs": [
    {
     "name": "stderr",
     "output_type": "stream",
     "text": [
      "/dataquest/system/env/python3/lib/python3.4/site-packages/seaborn/categorical.py:454: FutureWarning: remove_na is deprecated and is a private function. Do not use.\n",
      "  box_data = remove_na(group_data)\n"
     ]
    },
    {
     "data": {
      "image/png": "[encoded data removed]",
      "text/plain": [
       "<matplotlib.figure.Figure at 0x7fb226598048>"
      ]
     },
     "metadata": {},
     "output_type": "display_data"
    }
   ],
   "source": [
    "sns.boxplot(y = 'MoneyPerMonth', \n",
    "            x = 'CountryLive', \n",
    "            data = country_money_nooutliers)\n",
    "plt.title('Money Spent Per Month Per Country\\n(Distributions)',\n",
    "         fontsize = 16)\n",
    "plt.ylabel('Money per month (US dollars)')\n",
    "plt.xlabel('Country')\n",
    "plt.xticks(range(4), ['US', 'UK', 'India', 'Canada']) # avoids tick labels overlap\n",
    "plt.show()"
   ]
  },
  {
   "cell_type": "markdown",
   "metadata": {},
   "source": [
    "After removing outliers that are more than two standard deviations from the mean of the whole dataset, it is clear that Canadians are the most likely to spend more on learning on average. However, India is a large and diverse country, so the data may reflect inhomogeneity in the sample from India. For now, we will focus our marketing in Canada while the advertising team conducts research on the market in India."
   ]
  },
  {
   "cell_type": "code",
   "execution_count": null,
   "metadata": {
    "collapsed": true
   },
   "outputs": [],
   "source": []
  }
 ],
 "metadata": {
  "kernelspec": {
   "display_name": "Python 3",
   "language": "python",
   "name": "python3"
  },
  "language_info": {
   "codemirror_mode": {
    "name": "ipython",
    "version": 3
   },
   "file_extension": ".py",
   "mimetype": "text/x-python",
   "name": "python",
   "nbconvert_exporter": "python",
   "pygments_lexer": "ipython3",
   "version": "3.4.3"
  }
 },
 "nbformat": 4,
 "nbformat_minor": 2
}
